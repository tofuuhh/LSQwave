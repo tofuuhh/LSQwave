{
 "cells": [
  {
   "cell_type": "code",
   "execution_count": 47,
   "id": "4c7c6895-74b4-4614-90d2-3567bad6c23c",
   "metadata": {},
   "outputs": [],
   "source": [
    "from ngsolve import *"
   ]
  },
  {
   "cell_type": "code",
   "execution_count": 48,
   "id": "c78052b4-6299-4a93-a427-9516d045757b",
   "metadata": {},
   "outputs": [],
   "source": [
    "import netgen.gui"
   ]
  },
  {
   "cell_type": "code",
   "execution_count": 49,
   "id": "af056e34-880c-49de-90d0-e9961d24c230",
   "metadata": {},
   "outputs": [],
   "source": [
    "from netgen.geom2d import unit_square\n",
    "import matplotlib.pyplot as plt\n",
    "import numpy as np\n",
    "import time"
   ]
  },
  {
   "cell_type": "code",
   "execution_count": 50,
   "id": "b721544a-78a6-4348-9ba3-c8bd933dbeda",
   "metadata": {},
   "outputs": [],
   "source": [
    "# set order of method\n",
    "orderP = 1\n",
    "# adaptive parameter theta=1 equals uniform refinement \n",
    "theta = 0.25;\n",
    "# set max dofs (if numer of dofs is larger than maxDOFs, then computation ends after that step)\n",
    "maxDOFs = 50000"
   ]
  },
  {
   "cell_type": "code",
   "execution_count": 51,
   "id": "b55ad80a-ffc6-45a6-8f77-9f9119153d9d",
   "metadata": {},
   "outputs": [
    {
     "name": "stdout",
     "output_type": "stream",
     "text": [
      " Generate Mesh from spline geometry\n"
     ]
    }
   ],
   "source": [
    "mesh = Mesh(unit_square.GenerateMesh(maxh=0.25))\n",
    "Draw(mesh);"
   ]
  },
  {
   "cell_type": "code",
   "execution_count": 52,
   "id": "f47daebf-203c-4c2d-a7d1-6b4645efee2c",
   "metadata": {},
   "outputs": [],
   "source": [
    "## Example 1: Known solution\n",
    "# Exact solution of problem\n",
    "ExampleName = \"Example1\"\n",
    "exactSolKnown = True\n",
    "vEx = y*sin(pi*x)\n",
    "sigmaEx = y*y/2*pi*cos(pi*x)\n",
    "# data\n",
    "f = sin(pi*x)+pi*pi*y*y/2*sin(pi*x)\n",
    "g = 0\n",
    "v0 = 0\n",
    "sigma0 = 0\n",
    "\n",
    "## Example2: Gaussian pulse, exact solution not known\n",
    "ExampleName = \"Example2\"\n",
    "exactSolKnown = False\n",
    "kappa = 1000\n",
    "mu = 0.2\n",
    "v0 = 2*kappa*(x-mu)*exp(-kappa*(x-mu)*(x-mu))\n",
    "sigma0 = -2*kappa*(x-mu)*exp(-kappa*(x-mu)*(x-mu))\n",
    "f = 0\n",
    "g = 0\n",
    "\n",
    "## Example3: Solution with jumps.\n",
    "ExampleName = \"Example3\"\n",
    "exactSolKnown = False\n",
    "v0 = 1\n",
    "sigma0 = 0\n",
    "f = 0\n",
    "g = 0"
   ]
  },
  {
   "cell_type": "code",
   "execution_count": 53,
   "id": "6551b129-645b-4bb1-8a25-a9cbfddff11e",
   "metadata": {},
   "outputs": [],
   "source": [
    "# Set filename were basic information (number of dofs, error estimator) are storedd\n",
    "fNAMEresults = ExampleName + \"_orderP\" + str(orderP) + \"_maxDof\" + str(maxDOFs) + \"_theta\" + str(theta)\n",
    "fNAMEresults = fNAMEresults + \".csv\""
   ]
  },
  {
   "cell_type": "code",
   "execution_count": 54,
   "id": "1cf31b56-656b-4702-8553-1f66e4b261c3",
   "metadata": {},
   "outputs": [],
   "source": [
    "# Define FEM spaces\n",
    "V = H1(mesh, order=orderP, dirichlet=\"left|right\")\n",
    "SIGMA = H1(mesh, order=orderP)\n",
    "\n",
    "fesm = V*SIGMA"
   ]
  },
  {
   "cell_type": "code",
   "execution_count": 55,
   "id": "080f03d2-e907-4ab8-a26c-30345b9edf2a",
   "metadata": {},
   "outputs": [],
   "source": [
    "# Define functions v,sigma and test functions w,tau\n",
    "v,sigma = fesm.TrialFunction()\n",
    "w,tau = fesm.TestFunction()"
   ]
  },
  {
   "cell_type": "code",
   "execution_count": 56,
   "id": "cf4aefa1-e823-4926-81f2-134e2c943641",
   "metadata": {},
   "outputs": [
    {
     "data": {
      "text/plain": [
       "<ngsolve.comp.BilinearForm at 0x7fc0b7037070>"
      ]
     },
     "execution_count": 56,
     "metadata": {},
     "output_type": "execute_result"
    }
   ],
   "source": [
    "# Define and assemble bilinear form\n",
    "blf = BilinearForm(fesm)\n",
    "blf+= ( (grad(v)[1]-grad(sigma)[0])*(grad(w)[1]-grad(tau)[0])  )*dx\n",
    "blf+= ( (grad(sigma)[1]-grad(v)[0])*(grad(tau)[1]-grad(w)[0])  )*dx\n",
    "\n",
    "# add boundary terms\n",
    "blf+= ( v*w + sigma*tau )*ds(\"bottom\")\n",
    "\n",
    "# Assemble\n",
    "blf.Assemble()"
   ]
  },
  {
   "cell_type": "code",
   "execution_count": 57,
   "id": "50786eca-ea59-43eb-9c78-54851073b3b6",
   "metadata": {},
   "outputs": [
    {
     "data": {
      "text/plain": [
       "<ngsolve.comp.LinearForm at 0x7fc0b53870b0>"
      ]
     },
     "execution_count": 57,
     "metadata": {},
     "output_type": "execute_result"
    }
   ],
   "source": [
    "# Define Linear form\n",
    "rhs = LinearForm(fesm)\n",
    "rhs+= (f*(grad(w)[1]-grad(tau)[0]) + g*(grad(tau)[1]-grad(w)[0]))*dx\n",
    "rhs+= ( v0*w + sigma0*tau )*ds(\"bottom\")\n",
    "\n",
    "rhs.Assemble()"
   ]
  },
  {
   "cell_type": "code",
   "execution_count": null,
   "id": "1663ed34-74f2-4dc8-b3b0-c68db000252c",
   "metadata": {},
   "outputs": [],
   "source": []
  },
  {
   "cell_type": "code",
   "execution_count": 58,
   "id": "d3d05225-b2f5-4982-8417-eec8add786de",
   "metadata": {},
   "outputs": [],
   "source": [
    "# grid function\n",
    "gfm = GridFunction(fesm)\n",
    "gfv, gfsigma = gfm.components"
   ]
  },
  {
   "cell_type": "code",
   "execution_count": 59,
   "id": "00c27875-a9d1-407c-9beb-4d4c12a9d070",
   "metadata": {},
   "outputs": [],
   "source": [
    "#Define boundary2elements mapping\n",
    "def GetB2E():\n",
    "    #start = time.time()\n",
    "   \n",
    "    f2eAUX = np.zeros(mesh.nedge,dtype=int)\n",
    "    \n",
    "    for el in mesh.Elements(VOL):\n",
    "        f2eAUX[el.edges[0].nr] = el.nr\n",
    "        f2eAUX[el.edges[1].nr] = el.nr\n",
    "        f2eAUX[el.edges[2].nr] = el.nr\n",
    "    \n",
    "    nrBND = 0;\n",
    "    for el in mesh.Elements(BND):\n",
    "        nrBND += 1\n",
    "    \n",
    "    b2e = np.zeros(nrBND,dtype=int)\n",
    "    \n",
    "    \n",
    "    for el in mesh.Elements(BND):\n",
    "        b2e[el.nr] = f2eAUX[el.edges[0].nr]\n",
    "    \n",
    "    \n",
    "    #end = time.time()\n",
    "    #print(\"    Computing took \", (end - start), \" seconds\")\n",
    "    return b2e"
   ]
  },
  {
   "cell_type": "code",
   "execution_count": 60,
   "id": "d0b0f909-2a88-4ca1-9932-592a32d1c75f",
   "metadata": {},
   "outputs": [],
   "source": [
    "errVol = (grad(gfv)[1]-grad(gfsigma)[0]-f)*(grad(gfv)[1]-grad(gfsigma)[0]-f)\n",
    "errVol += (grad(gfsigma)[1]-grad(gfv)[0]-g)*(grad(gfsigma)[1]-grad(gfv)[0]-g)\n",
    "eta2 = Integrate(errVol, mesh, VOL, element_wise=True)"
   ]
  },
  {
   "cell_type": "code",
   "execution_count": 61,
   "id": "8270e772-75e1-46ee-8a96-262494c6fceb",
   "metadata": {},
   "outputs": [],
   "source": [
    "# realization of doerfler marking\n",
    "def MarkBulk(eta,theta):\n",
    "    indicators_sorted=np.sort(eta.NumPy())\n",
    "    indicators_sorted[::-1] = indicators_sorted\n",
    "    idx=np.argsort(eta.NumPy())\n",
    "    idx[::-1]=idx\n",
    "\n",
    "    \n",
    "\n",
    "    sumind = np.cumsum(indicators_sorted)\n",
    "\n",
    "    \n",
    "    tmp = sumind>=sumind[len(sumind)-1]*theta\n",
    "    jdx = np.min(np.where(tmp==True))\n",
    "\n",
    "    \n",
    "    \n",
    "    marked = idx[0:jdx+1]\n",
    "    #print(np.arange(0,jdx+1))\n",
    "    #print(marked)\n",
    "\n",
    "    tmp = np.full(len(eta.NumPy()), False)\n",
    "    tmp[marked] = True\n",
    "    #print(tmp)\n",
    "    return tmp\n",
    "\n"
   ]
  },
  {
   "cell_type": "code",
   "execution_count": 62,
   "id": "23347048-26dc-4b52-a7b9-5d987ccade5f",
   "metadata": {},
   "outputs": [],
   "source": [
    "def SolveBVP():\n",
    "    fesm.Update()\n",
    "    gfm.Update()\n",
    "    gfv.Update()\n",
    "    gfsigma.Update()\n",
    "    blf.Assemble()\n",
    "    rhs.Assemble()\n",
    "    gfm.vec.data = blf.mat.Inverse(freedofs=fesm.FreeDofs(), inverse=\"umfpack\") * rhs.vec.data\n",
    "    Draw(gfv)\n",
    "    Redraw (blocking=True)"
   ]
  },
  {
   "cell_type": "code",
   "execution_count": 63,
   "id": "7673358d-bc53-41fc-83ca-3b4598831110",
   "metadata": {},
   "outputs": [],
   "source": [
    "l = []    # l = list of estimated total error\n",
    "errExact = [] # if exact solution is known\n",
    "\n",
    "def CalcError():\n",
    "\n",
    "    # compute estimator:\n",
    "    gfm.Update()\n",
    "    gfv.Update()\n",
    "    gfsigma.Update()\n",
    "\n",
    "    errVol = (grad(gfv)[1]-grad(gfsigma)[0]-f)*(grad(gfv)[1]-grad(gfsigma)[0]-f)\n",
    "    errVol += (grad(gfsigma)[1]-grad(gfv)[0]-g)*(grad(gfsigma)[1]-grad(gfv)[0]-g)\n",
    "    eta2 = Integrate(errVol, mesh, VOL, element_wise=True)\n",
    "    \n",
    "    #print(maxerr)\n",
    "\n",
    "    # boundary errors\n",
    "    errBou2 = Integrate((gfv-v0)*(gfv-v0),mesh,BND,element_wise=True,definedon=mesh.Boundaries(\"bottom\"))\n",
    "    errBou2+= Integrate((gfsigma-sigma0)*(gfsigma-sigma0),mesh,BND,element_wise=True,definedon=mesh.Boundaries(\"bottom\"))\n",
    "    tmp = eta2.NumPy()\n",
    "    b2e = GetB2E() # compute boundary to volume element relation\n",
    "    tmp[b2e] = tmp[b2e] + errBou2 # update error estimator (this adds directly to eta2)\n",
    "    \n",
    "    \n",
    "    if(theta<1):\n",
    "        mesh.ngmesh.Elements2D().NumPy()[\"refine\"] = MarkBulk(eta2,theta)\n",
    "    \n",
    "\n",
    "    l.append ((fesm.ndof, sqrt(sum(eta2))))\n",
    "    print(\"ndof =\", fesm.ndof, \" ErrEst =\", sqrt(sum(eta2)))\n",
    "\n",
    "\n",
    "    if(exactSolKnown == True):\n",
    "        tmp = (vEx-gfv)*(vEx-gfv)+(sigmaEx-gfsigma)*(sigmaEx-gfsigma)\n",
    "        tmp+= (grad(gfv)[1]-grad(gfsigma)[0]-f)*(grad(gfv)[1]-grad(gfsigma)[0]-f)\n",
    "        tmp+= (grad(gfsigma)[1]-grad(gfv)[0]-g)*(grad(gfsigma)[1]-grad(gfv)[0]-g)\n",
    "        \n",
    "        errTMP = Integrate( tmp, mesh, VOL,element_wise=True)\n",
    "        errExact.append( (fesm.ndof,sqrt(sum(errTMP))))"
   ]
  },
  {
   "cell_type": "code",
   "execution_count": 64,
   "id": "85c98dbd-4b4a-4c83-b48c-95311763ff5b",
   "metadata": {},
   "outputs": [
    {
     "name": "stdout",
     "output_type": "stream",
     "text": [
      "ndof = 52  ErrEst = 0.596170937860841\n",
      " Mesh bisection\n",
      " Bisection done\n",
      "ndof = 62  ErrEst = 0.5256494638693423\n",
      " Mesh bisection\n",
      " Bisection done\n",
      "ndof = 72  ErrEst = 0.5222140283957712\n",
      " Mesh bisection\n",
      " Bisection done\n",
      "ndof = 84  ErrEst = 0.5211722416518239\n",
      " Mesh bisection\n",
      " Bisection done\n",
      "ndof = 104  ErrEst = 0.6143932347750809\n",
      " Mesh bisection\n",
      " Bisection done\n",
      "ndof = 112  ErrEst = 0.6090814001279772\n",
      " Mesh bisection\n",
      " Bisection done\n",
      "ndof = 132  ErrEst = 0.6070208916548084\n",
      " Mesh bisection\n",
      " Bisection done\n",
      "ndof = 158  ErrEst = 0.5923997669514112\n",
      " Mesh bisection\n",
      " Bisection done\n",
      "ndof = 206  ErrEst = 0.5915223396502512\n",
      " Mesh bisection\n",
      " Bisection done\n",
      "ndof = 270  ErrEst = 0.5490472915482463\n",
      " Mesh bisection\n",
      " Bisection done\n",
      "ndof = 342  ErrEst = 0.5094100955846086\n",
      " Mesh bisection\n",
      " Bisection done\n",
      "ndof = 420  ErrEst = 0.4982246700977137\n",
      " Mesh bisection\n",
      " Bisection done\n",
      "ndof = 526  ErrEst = 0.49425204151788515\n",
      " Mesh bisection\n",
      " Bisection done\n",
      "ndof = 658  ErrEst = 0.4941848382527148\n",
      " Mesh bisection\n",
      " Bisection done\n",
      "ndof = 838  ErrEst = 0.46377724073637133\n",
      " Mesh bisection\n",
      " Bisection done\n",
      "ndof = 1048  ErrEst = 0.44662397936191706\n",
      " Mesh bisection\n",
      " Bisection done\n",
      "ndof = 1274  ErrEst = 0.44289073892368286\n",
      " Mesh bisection\n",
      " Bisection done\n",
      "ndof = 1580  ErrEst = 0.4349416661861909\n",
      " Mesh bisection\n",
      " Bisection done\n",
      "ndof = 1980  ErrEst = 0.41749995382333366\n",
      " Mesh bisection\n",
      " Bisection done\n",
      "ndof = 2404  ErrEst = 0.4078542245102521\n",
      " Mesh bisection\n",
      " Bisection done\n",
      "ndof = 2950  ErrEst = 0.39659634716116443\n",
      " Mesh bisection\n",
      " Bisection done\n",
      "ndof = 3628  ErrEst = 0.38433074486886015\n",
      " Mesh bisection\n",
      " Bisection done\n",
      "ndof = 4518  ErrEst = 0.3656013724291664\n",
      " Mesh bisection\n",
      " Bisection done\n",
      "ndof = 5536  ErrEst = 0.3565469645020274\n",
      " Mesh bisection\n",
      " Bisection done\n",
      "ndof = 6804  ErrEst = 0.3453208249204339\n",
      " Mesh bisection\n",
      " Bisection done\n",
      "ndof = 8416  ErrEst = 0.33453324315777255\n",
      " Mesh bisection\n",
      " Bisection done\n",
      "ndof = 10346  ErrEst = 0.32173495562491145\n",
      " Mesh bisection\n",
      " Bisection done\n",
      "ndof = 12720  ErrEst = 0.3097950073570796\n",
      " Mesh bisection\n",
      " Bisection done\n",
      "ndof = 15846  ErrEst = 0.2954793189981387\n",
      " Mesh bisection\n",
      " Bisection done\n",
      "ndof = 19344  ErrEst = 0.2829723958831609\n",
      " Mesh bisection\n",
      " Bisection done\n",
      "ndof = 24072  ErrEst = 0.27219456128829095\n",
      " Mesh bisection\n",
      " Bisection done\n",
      "ndof = 29742  ErrEst = 0.26288917457727495\n",
      " Mesh bisection\n",
      " Bisection done\n",
      "ndof = 36880  ErrEst = 0.2524256511134249\n",
      " Mesh bisection\n",
      " Bisection done\n",
      "ndof = 45710  ErrEst = 0.24240205851728813\n",
      " Mesh bisection\n",
      " Bisection done\n",
      "ndof = 56160  ErrEst = 0.23139790737840868\n",
      " Mesh bisection\n",
      " Bisection done\n"
     ]
    }
   ],
   "source": [
    "while fesm.ndof < maxDOFs:\n",
    "    SolveBVP()\n",
    "    CalcError()\n",
    "    mesh.Refine()"
   ]
  },
  {
   "cell_type": "code",
   "execution_count": null,
   "id": "5d340016-7522-4b83-94eb-b579065f50c6",
   "metadata": {},
   "outputs": [],
   "source": []
  },
  {
   "cell_type": "code",
   "execution_count": 65,
   "id": "05aad9a2-8a74-43d5-9fdd-ca548e3917c8",
   "metadata": {},
   "outputs": [
    {
     "data": {
      "image/png": "[encoded data removed]",
      "text/plain": [
       "<Figure size 640x480 with 1 Axes>"
      ]
     },
     "metadata": {},
     "output_type": "display_data"
    }
   ],
   "source": [
    "plt.yscale('log')\n",
    "plt.xscale('log')\n",
    "plt.xlabel(\"DOFs\")\n",
    "plt.ylabel(\"estimator\")\n",
    "ndof,err = zip(*l)\n",
    "hp = np.power(sqrt(np.divide(1,ndof)*ndof[-1]),orderP)*err[-1]\n",
    "plt.plot(ndof,err, \"-*\",ndof,hp)\n",
    "\n",
    "plt.ion()\n",
    "plt.show()"
   ]
  },
  {
   "cell_type": "code",
   "execution_count": 66,
   "id": "e1ec25e8-4b9c-4ce6-8816-69e2d42b48d2",
   "metadata": {},
   "outputs": [],
   "source": [
    "if(exactSolKnown == True):\n",
    "    plt.yscale('log')\n",
    "    plt.xscale('log')\n",
    "    plt.xlabel(\"DOFs\")\n",
    "    plt.ylabel(\"error\")\n",
    "    ndof,est = zip(*l)\n",
    "    ndof,err = zip(*errExact)\n",
    "    hp = np.power(sqrt(np.divide(1,ndof)*ndof[-1]),orderP)*err[-1]\n",
    "    plt.plot(ndof,est, \"-*\",ndof,hp,ndof,err)\n",
    "    \n",
    "    plt.ion()\n",
    "    plt.show()"
   ]
  },
  {
   "cell_type": "code",
   "execution_count": 67,
   "id": "d90cfea6-47b8-4760-9f3c-98dc8ed42088",
   "metadata": {
    "scrolled": true
   },
   "outputs": [],
   "source": [
    "## save data (estimator and error) to csv file, for postprocessing \n",
    "#np.savetxt(fNAMEresults, l, delimiter=',', header=\"ndof,errEst\", comments=\"\")\n"
   ]
  },
  {
   "cell_type": "code",
   "execution_count": 68,
   "id": "8c7c84a1-0319-4221-9819-474721d41f33",
   "metadata": {},
   "outputs": [
    {
     "data": {
      "text/plain": [
       "'Example3_orderP1_maxDOFs50000'"
      ]
     },
     "execution_count": 68,
     "metadata": {},
     "output_type": "execute_result"
    }
   ],
   "source": [
    "# Update draw and possible store result for visualization\n",
    "gfm.Update()\n",
    "gfv.Update()\n",
    "gfsigma.Update()\n",
    "Redraw()\n",
    "\n",
    "## VTKOutput object\n",
    "vtk = VTKOutput(ma=mesh,\n",
    "                coefs=[gfv,gfsigma],\n",
    "                names = [\"v\",\"sigma\"],\n",
    "                filename=ExampleName+\"_orderP\" + str(orderP) + \"_maxDOFs\" + str(maxDOFs),\n",
    "                subdivision=orderP-1)\n",
    "# Exporting results:\n",
    "vtk.Do()"
   ]
  },
  {
   "cell_type": "code",
   "execution_count": 69,
   "id": "47df13cf-016c-4ae6-8512-b5af11424509",
   "metadata": {},
   "outputs": [
    {
     "data": {
      "text/plain": [
       "(52,\n",
       " 62,\n",
       " 72,\n",
       " 84,\n",
       " 104,\n",
       " 112,\n",
       " 132,\n",
       " 158,\n",
       " 206,\n",
       " 270,\n",
       " 342,\n",
       " 420,\n",
       " 526,\n",
       " 658,\n",
       " 838,\n",
       " 1048,\n",
       " 1274,\n",
       " 1580,\n",
       " 1980,\n",
       " 2404,\n",
       " 2950,\n",
       " 3628,\n",
       " 4518,\n",
       " 5536,\n",
       " 6804,\n",
       " 8416,\n",
       " 10346,\n",
       " 12720,\n",
       " 15846,\n",
       " 19344,\n",
       " 24072,\n",
       " 29742,\n",
       " 36880,\n",
       " 45710,\n",
       " 56160)"
      ]
     },
     "execution_count": 69,
     "metadata": {},
     "output_type": "execute_result"
    }
   ],
   "source": [
    "ndof"
   ]
  },
  {
   "cell_type": "code",
   "execution_count": null,
   "id": "c978b70a-f867-4a89-a435-f02dfbf77c87",
   "metadata": {},
   "outputs": [],
   "source": []
  }
 ],
 "metadata": {
  "kernelspec": {
   "display_name": "Python 3 (ipykernel)",
   "language": "python",
   "name": "python3"
  },
  "language_info": {
   "codemirror_mode": {
    "name": "ipython",
    "version": 3
   },
   "file_extension": ".py",
   "mimetype": "text/x-python",
   "name": "python",
   "nbconvert_exporter": "python",
   "pygments_lexer": "ipython3",
   "version": "3.11.5"
  }
 },
 "nbformat": 4,
 "nbformat_minor": 5
}
